{
 "cells": [
  {
   "cell_type": "markdown",
   "id": "a2be44f7",
   "metadata": {},
   "source": [
    "- nama: Ardian Setya Pradana\n",
    "- NIM: A11.2022.14596\n",
    "- Mata Kuliah: Data Mining\n",
    "\n",
    "### Ringkasan dan Permasalahan Project\n",
    "\n",
    "**Permasalahan**\n",
    "Komentar di media sosial seperti Instagram sering kali mengandung berbagai jenis sentimen, mulai dari komentar positif hingga yang bernada negatif atau bahkan termasuk cyberbullying. Analisis ini bertujuan untuk mendeteksi sentimen dari komentar Instagram untuk membantu memahami pola komunikasi dan mengidentifikasi konten yang tidak pantas.\n",
    "\n",
    "**Tujuan**\n",
    "- Membersihkan data komentar Instagram.\n",
    "- Melakukan klasifikasi komentar menjadi sentimen positif atau negatif.\n",
    "- Membangun model deep learning yang akurat untuk mendeteksi sentimen.\n",
    "\n",
    "**Model / Alur Penyelesaian**\n",
    "Berikut adalah alur penyelesaian yang diikuti:\n",
    "1. **Persiapan Dataset**: Memuat data, membersihkan data, dan melakukan preprocessing.\n",
    "2. **Exploratory Data Analysis (EDA)**: Memahami distribusi data dan pola sentimen.\n",
    "3. **Feature Engineering**: Melakukan tokenisasi dan padding teks.\n",
    "4. **Pemodelan**: Membangun model LSTM untuk klasifikasi sentimen.\n",
    "5. **Evaluasi Model**: Menggunakan metrik seperti confusion matrix dan classification report.\n",
    "6. **Diskusi dan Kesimpulan**: Menganalisis performa model.\n",
    "\n",
    "**Bagan Alur**\n",
    "1. **Input Data**\n",
    "   - Dataset komentar Instagram.\n",
    "2. **Preprocessing**\n",
    "   - Pembersihan teks.\n",
    "   - Label encoding.\n",
    "3. **EDA**\n",
    "   - Distribusi kelas.\n",
    "   - Visualisasi data.\n",
    "4. **Tokenisasi dan Padding**\n",
    "   - Mengubah teks menjadi vektor numerik.\n",
    "5. **Modeling**\n",
    "   - Model LSTM dengan embedding layer.\n",
    "6. **Evaluasi**\n",
    "   - Confusion matrix.\n",
    "   - Classification report.\n",
    "\n",
    "### Penjelasan Dataset, EDA, dan Proses Features Dataset\n",
    "\n",
    "**Dataset**\n",
    "Dataset berisi kolom berikut:\n",
    "- **Instagram Comment Text**: Teks komentar dari Instagram.\n",
    "- **Sentiment**: Kategori sentimen (misalnya: positif, negatif, netral).\n",
    "\n",
    "**Exploratory Data Analysis (EDA)**\n",
    "1. Melihat distribusi data sentimen:\n",
    "   - Dataset seimbang atau tidak.\n",
    "   - Distribusi jumlah komentar pada setiap kelas.\n",
    "2. Membersihkan data:\n",
    "   - Menghapus komentar kosong atau NaN.\n",
    "   - Menghapus noise seperti URL, angka, simbol, dan emoji.\n",
    "\n",
    "**Proses Features Dataset**\n",
    "1. **Cleaning Text**: Menghapus username, URL, angka, simbol, dan emoji.\n",
    "2. **Tokenisasi**: Mengubah teks menjadi urutan angka berdasarkan frekuensi kata.\n",
    "3. **Padding**: Menyamakan panjang semua komentar agar sesuai dengan input model.\n",
    "4. **Label Encoding**: Mengonversi label sentimen menjadi angka.\n",
    "\n",
    "### Proses Learning / Modeling\n",
    "1. **Model Architecture**:\n",
    "   - **Embedding Layer**: Mengubah kata menjadi representasi vektor numerik.\n",
    "   - **LSTM**: Menangkap pola temporal dalam teks.\n",
    "   - **Dropout**: Mencegah overfitting.\n",
    "   - **Dense Layer**: Memberikan output berupa probabilitas sentimen.\n",
    "2. **Loss Function**: Binary Crossentropy.\n",
    "3. **Optimizer**: Adam.\n",
    "4. **Training**:\n",
    "   - Epochs: 10\n",
    "   - Batch Size: 64\n",
    "   - Validation Split: 20%.\n",
    "5. **Callback**: Early stopping untuk mencegah overfitting.\n",
    "\n",
    "### Performa Model\n",
    "1. **Confusion Matrix**:\n",
    "   ```\n",
    "   [[34 10]\n",
    "    [ 2 34]]\n",
    "   ```\n",
    "2. **Classification Report**:\n",
    "   ```\n",
    "                 precision    recall  f1-score   support\n",
    "\n",
    "       negative       0.94      0.77      0.85        44\n",
    "       positive       0.77      0.94      0.85        36\n",
    "\n",
    "       accuracy                           0.85        80\n",
    "      macro avg       0.86      0.86      0.85        80\n",
    "   weighted avg       0.87      0.85      0.85        80\n",
    "   ```\n",
    "\n",
    "### Diskusi Hasil dan Kesimpulan\n",
    "**Hasil Evaluasi**:\n",
    "- Model mampu mendeteksi sentimen dengan akurasi sebesar 85%.\n",
    "- Precision dan recall cukup tinggi, menunjukkan model andal dalam mengklasifikasikan komentar.\n",
    "- Model memiliki kelemahan pada kelas tertentu, misalnya \"negative\" memiliki recall yang lebih rendah dibandingkan kelas \"positive\".\n",
    "\n",
    "**Kelemahan Model**:\n",
    "- Performa bisa lebih baik dengan dataset yang lebih besar.\n",
    "- Model kesulitan dengan komentar ambigu.\n",
    "\n",
    "**Kesimpulan**:\n",
    "- Model berbasis LSTM efektif untuk klasifikasi sentimen.\n",
    "- Proses pembersihan data sangat penting untuk meningkatkan akurasi.\n",
    "- Model ini dapat diadopsi untuk mendeteksi komentar yang tidak pantas di media sosial.\n",
    "\n"
   ]
  },
  {
   "cell_type": "code",
   "execution_count": 1,
   "id": "ed62b890-3112-4abd-9f57-91a9a63d6c98",
   "metadata": {},
   "outputs": [],
   "source": [
    "import pandas as pd\n",
    "import numpy as np\n",
    "from sklearn.model_selection import train_test_split\n",
    "from sklearn.preprocessing import LabelEncoder\n",
    "from tensorflow.keras.preprocessing.text import Tokenizer\n",
    "from tensorflow.keras.preprocessing.sequence import pad_sequences\n",
    "from tensorflow.keras.models import Sequential\n",
    "from tensorflow.keras.layers import LSTM, Dense, Embedding, Dropout\n",
    "from tensorflow.keras.callbacks import EarlyStopping\n",
    "from sklearn.metrics import classification_report, confusion_matrix\n",
    "import matplotlib.pyplot as plt\n",
    "import re\n",
    "import seaborn as sns"
   ]
  },
  {
   "cell_type": "markdown",
   "id": "e898c25d-7133-4e3e-9758-91bf662c7027",
   "metadata": {},
   "source": [
    "# 1. Load Dataset"
   ]
  },
  {
   "cell_type": "code",
   "execution_count": 66,
   "id": "3646884c-8778-44e3-8611-8b82df48a166",
   "metadata": {},
   "outputs": [
    {
     "data": {
      "text/html": [
       "<div>\n",
       "<style scoped>\n",
       "    .dataframe tbody tr th:only-of-type {\n",
       "        vertical-align: middle;\n",
       "    }\n",
       "\n",
       "    .dataframe tbody tr th {\n",
       "        vertical-align: top;\n",
       "    }\n",
       "\n",
       "    .dataframe thead th {\n",
       "        text-align: right;\n",
       "    }\n",
       "</style>\n",
       "<table border=\"1\" class=\"dataframe\">\n",
       "  <thead>\n",
       "    <tr style=\"text-align: right;\">\n",
       "      <th></th>\n",
       "      <th>Id</th>\n",
       "      <th>Sentiment</th>\n",
       "      <th>Instagram Comment Text</th>\n",
       "    </tr>\n",
       "  </thead>\n",
       "  <tbody>\n",
       "    <tr>\n",
       "      <th>0</th>\n",
       "      <td>1</td>\n",
       "      <td>negative</td>\n",
       "      <td>&lt;USERNAME&gt; TOLOL!! Gak ada hubungan nya kegug...</td>\n",
       "    </tr>\n",
       "    <tr>\n",
       "      <th>1</th>\n",
       "      <td>2</td>\n",
       "      <td>negative</td>\n",
       "      <td>Geblek lo tata...cowo bgt dibela2in balikan......</td>\n",
       "    </tr>\n",
       "    <tr>\n",
       "      <th>2</th>\n",
       "      <td>3</td>\n",
       "      <td>negative</td>\n",
       "      <td>Kmrn termewek2 skr lengket lg duhhh kok labil ...</td>\n",
       "    </tr>\n",
       "    <tr>\n",
       "      <th>3</th>\n",
       "      <td>4</td>\n",
       "      <td>negative</td>\n",
       "      <td>Intinya kalau kesel dengan ATT nya, gausah ke ...</td>\n",
       "    </tr>\n",
       "    <tr>\n",
       "      <th>4</th>\n",
       "      <td>5</td>\n",
       "      <td>negative</td>\n",
       "      <td>hadewwwww permpuan itu lg!!!!sakit jiwa,knp ha...</td>\n",
       "    </tr>\n",
       "  </tbody>\n",
       "</table>\n",
       "</div>"
      ],
      "text/plain": [
       "   Id Sentiment                             Instagram Comment Text\n",
       "0   1  negative   <USERNAME> TOLOL!! Gak ada hubungan nya kegug...\n",
       "1   2  negative  Geblek lo tata...cowo bgt dibela2in balikan......\n",
       "2   3  negative  Kmrn termewek2 skr lengket lg duhhh kok labil ...\n",
       "3   4  negative  Intinya kalau kesel dengan ATT nya, gausah ke ...\n",
       "4   5  negative  hadewwwww permpuan itu lg!!!!sakit jiwa,knp ha..."
      ]
     },
     "execution_count": 66,
     "metadata": {},
     "output_type": "execute_result"
    }
   ],
   "source": [
    "data = pd.read_csv('dataset_komentar_instagram_cyberbullying.csv')\n",
    "data.head()"
   ]
  },
  {
   "cell_type": "markdown",
   "id": "af9b01ad-6638-44d1-a983-2aaa8ed0e4f3",
   "metadata": {},
   "source": [
    "# 2. Data Cleaning"
   ]
  },
  {
   "cell_type": "code",
   "execution_count": 67,
   "id": "2d4dd988-3aae-4d18-af03-62eb8e765c2e",
   "metadata": {},
   "outputs": [
    {
     "name": "stdout",
     "output_type": "stream",
     "text": [
      "Distribusi Kelas:\n",
      "Sentiment\n",
      "0    200\n",
      "1    200\n",
      "Name: count, dtype: int64\n"
     ]
    }
   ],
   "source": [
    "data.dropna(subset=['Instagram Comment Text', 'Sentiment'], inplace=True)\n",
    "def clean_text(text):\n",
    "    text = re.sub(r\"<USERNAME>\", \"\", text)  # Remove placeholder username\n",
    "    text = re.sub(r\"http\\S+|www\\S+\", \"\", text)  # Remove URLs\n",
    "    text = re.sub(r\"\\d+\", \"\", text)  # Remove numbers\n",
    "    text = re.sub(r\"[^\\x00-\\x7F]+\", \"\", text) #remove emoji or non ascii\n",
    "    text = re.sub(r\"[^a-zA-Z ]\", \"\", text)\n",
    "    text = text.lower().strip()  # Convert to lowercase and strip whitespace\n",
    "    return text\n",
    "\n",
    "data['cleaned_text'] = data['Instagram Comment Text'].apply(clean_text)\n",
    "\n",
    "# label encode\n",
    "label_encoder = LabelEncoder()\n",
    "\n",
    "data['Sentiment'] = label_encoder.fit_transform(data['Sentiment'])\n",
    "print(\"Distribusi Kelas:\")\n",
    "print(data['Sentiment'].value_counts())\n"
   ]
  },
  {
   "cell_type": "markdown",
   "id": "1dcd2574-43b4-4fc0-993d-dd4189090479",
   "metadata": {},
   "source": [
    "# 3. Tokenisasi dan Padding"
   ]
  },
  {
   "cell_type": "code",
   "execution_count": 68,
   "id": "8a624d3b-5252-4e81-b2bd-00f0977d1e74",
   "metadata": {},
   "outputs": [],
   "source": [
    "tokenizer = Tokenizer(num_words=5000)\n",
    "tokenizer.fit_on_texts(data['Instagram Comment Text'])\n",
    "sequences = tokenizer.texts_to_sequences(data['Instagram Comment Text'])\n",
    "X = pad_sequences(sequences, maxlen=100)\n",
    "y = data['Sentiment'].values"
   ]
  },
  {
   "cell_type": "markdown",
   "id": "9f147ec7-ad07-4e20-982e-959b334401d2",
   "metadata": {},
   "source": [
    "# 4. Splitting Data "
   ]
  },
  {
   "cell_type": "code",
   "execution_count": 69,
   "id": "3f65dbac-fa6f-4e6b-9e9d-58d5ec94bb7d",
   "metadata": {},
   "outputs": [],
   "source": [
    "X_train, X_test, y_train, y_test = train_test_split(X, y, test_size=0.2, random_state=42)"
   ]
  },
  {
   "cell_type": "markdown",
   "id": "7c7d4147-5079-43de-9596-da218164b499",
   "metadata": {},
   "source": [
    "# 5. Build LSTM Model"
   ]
  },
  {
   "cell_type": "code",
   "execution_count": 70,
   "id": "e91c6473-0c7d-448e-bd2e-4b58309fe9d6",
   "metadata": {},
   "outputs": [
    {
     "name": "stderr",
     "output_type": "stream",
     "text": [
      "C:\\Users\\kurku\\AppData\\Local\\Programs\\Python\\Python312\\Lib\\site-packages\\keras\\src\\layers\\core\\embedding.py:90: UserWarning: Argument `input_length` is deprecated. Just remove it.\n",
      "  warnings.warn(\n"
     ]
    }
   ],
   "source": [
    "model = Sequential()\n",
    "model.add(Embedding(input_dim=5000, output_dim=128, input_length=100))\n",
    "model.add(LSTM(128, return_sequences=True))\n",
    "model.add(Dropout(0.2))\n",
    "model.add(LSTM(64))\n",
    "model.add(Dropout(0.2))\n",
    "model.add(Dense(1, activation='sigmoid'))  # Untuk binary classification\n",
    "\n",
    "model.compile(loss='binary_crossentropy', optimizer='adam', metrics=['accuracy'])"
   ]
  },
  {
   "cell_type": "markdown",
   "id": "583d60af-8c42-4189-b7c3-ba87e4976de3",
   "metadata": {},
   "source": [
    "# 6. Train Model\n"
   ]
  },
  {
   "cell_type": "code",
   "execution_count": 71,
   "id": "6c70bc74-e958-4080-9545-58c8db17a111",
   "metadata": {},
   "outputs": [
    {
     "name": "stdout",
     "output_type": "stream",
     "text": [
      "Epoch 1/10\n",
      "\u001b[1m4/4\u001b[0m \u001b[32m━━━━━━━━━━━━━━━━━━━━\u001b[0m\u001b[37m\u001b[0m \u001b[1m5s\u001b[0m 336ms/step - accuracy: 0.5224 - loss: 0.6929 - val_accuracy: 0.6562 - val_loss: 0.6891\n",
      "Epoch 2/10\n",
      "\u001b[1m4/4\u001b[0m \u001b[32m━━━━━━━━━━━━━━━━━━━━\u001b[0m\u001b[37m\u001b[0m \u001b[1m1s\u001b[0m 189ms/step - accuracy: 0.6906 - loss: 0.6794 - val_accuracy: 0.6094 - val_loss: 0.6856\n",
      "Epoch 3/10\n",
      "\u001b[1m4/4\u001b[0m \u001b[32m━━━━━━━━━━━━━━━━━━━━\u001b[0m\u001b[37m\u001b[0m \u001b[1m1s\u001b[0m 190ms/step - accuracy: 0.7557 - loss: 0.6514 - val_accuracy: 0.7031 - val_loss: 0.6615\n",
      "Epoch 4/10\n",
      "\u001b[1m4/4\u001b[0m \u001b[32m━━━━━━━━━━━━━━━━━━━━\u001b[0m\u001b[37m\u001b[0m \u001b[1m1s\u001b[0m 183ms/step - accuracy: 0.8266 - loss: 0.5825 - val_accuracy: 0.7188 - val_loss: 0.5914\n",
      "Epoch 5/10\n",
      "\u001b[1m4/4\u001b[0m \u001b[32m━━━━━━━━━━━━━━━━━━━━\u001b[0m\u001b[37m\u001b[0m \u001b[1m1s\u001b[0m 187ms/step - accuracy: 0.8958 - loss: 0.4286 - val_accuracy: 0.6562 - val_loss: 0.7671\n",
      "Epoch 6/10\n",
      "\u001b[1m4/4\u001b[0m \u001b[32m━━━━━━━━━━━━━━━━━━━━\u001b[0m\u001b[37m\u001b[0m \u001b[1m1s\u001b[0m 185ms/step - accuracy: 0.8214 - loss: 0.4292 - val_accuracy: 0.7344 - val_loss: 0.5175\n",
      "Epoch 7/10\n",
      "\u001b[1m4/4\u001b[0m \u001b[32m━━━━━━━━━━━━━━━━━━━━\u001b[0m\u001b[37m\u001b[0m \u001b[1m1s\u001b[0m 182ms/step - accuracy: 0.9453 - loss: 0.2065 - val_accuracy: 0.7500 - val_loss: 0.5109\n",
      "Epoch 8/10\n",
      "\u001b[1m4/4\u001b[0m \u001b[32m━━━━━━━━━━━━━━━━━━━━\u001b[0m\u001b[37m\u001b[0m \u001b[1m1s\u001b[0m 187ms/step - accuracy: 0.9818 - loss: 0.1694 - val_accuracy: 0.8125 - val_loss: 0.4580\n",
      "Epoch 9/10\n",
      "\u001b[1m4/4\u001b[0m \u001b[32m━━━━━━━━━━━━━━━━━━━━\u001b[0m\u001b[37m\u001b[0m \u001b[1m1s\u001b[0m 188ms/step - accuracy: 1.0000 - loss: 0.0931 - val_accuracy: 0.8125 - val_loss: 0.4457\n",
      "Epoch 10/10\n",
      "\u001b[1m4/4\u001b[0m \u001b[32m━━━━━━━━━━━━━━━━━━━━\u001b[0m\u001b[37m\u001b[0m \u001b[1m1s\u001b[0m 187ms/step - accuracy: 1.0000 - loss: 0.0495 - val_accuracy: 0.8281 - val_loss: 0.5180\n"
     ]
    }
   ],
   "source": [
    "early_stopping = EarlyStopping(monitor='val_loss', patience=3)\n",
    "history = model.fit(X_train, y_train, epochs=10, batch_size=64, validation_split=0.2, callbacks=[early_stopping])\n"
   ]
  },
  {
   "cell_type": "code",
   "execution_count": 74,
   "id": "6d7c0b88-773a-4f79-8d4c-680d85835cdf",
   "metadata": {},
   "outputs": [
    {
     "name": "stdout",
     "output_type": "stream",
     "text": [
      "\u001b[1m3/3\u001b[0m \u001b[32m━━━━━━━━━━━━━━━━━━━━\u001b[0m\u001b[37m\u001b[0m \u001b[1m0s\u001b[0m 46ms/step\n",
      "Confusion Matrix:\n",
      "[[34 10]\n",
      " [ 2 34]]\n",
      "\n",
      "Classification Report:\n",
      "              precision    recall  f1-score   support\n",
      "\n",
      "    negative       0.94      0.77      0.85        44\n",
      "    positive       0.77      0.94      0.85        36\n",
      "\n",
      "    accuracy                           0.85        80\n",
      "   macro avg       0.86      0.86      0.85        80\n",
      "weighted avg       0.87      0.85      0.85        80\n",
      "\n"
     ]
    }
   ],
   "source": [
    "y_pred_prob = model.predict(X_test)  # Mendapatkan probabilitas prediksi\n",
    "y_pred = (y_pred_prob > 0.5).astype(\"int32\")  # Mengonversi probabilitas ke label biner\n",
    "\n",
    "# Menampilkan hasil evaluasi\n",
    "print(\"Confusion Matrix:\")\n",
    "conf_matrix = confusion_matrix(y_test, y_pred)\n",
    "print(conf_matrix)\n",
    "\n",
    "# Menampilkan Laporan Klasifikasi\n",
    "print(\"\\nClassification Report:\")\n",
    "class_report = classification_report(y_test, y_pred, target_names=label_encoder.classes_)\n",
    "print(class_report)\n"
   ]
  },
  {
   "cell_type": "markdown",
   "id": "532995b4-ca63-46f2-ba77-3d5aaeaae2ec",
   "metadata": {},
   "source": [
    "# Confusion Matrix"
   ]
  },
  {
   "cell_type": "code",
   "execution_count": 73,
   "id": "1d04bc57-ec45-4800-821a-32d155aeb643",
   "metadata": {},
   "outputs": [
    {
     "data": {
      "image/png": "[encoded data removed]",
      "text/plain": [
       "<Figure size 800x600 with 2 Axes>"
      ]
     },
     "metadata": {},
     "output_type": "display_data"
    }
   ],
   "source": [
    "plt.figure(figsize=(8, 6))\n",
    "sns.heatmap(conf_matrix, annot=True, fmt='d', cmap='Blues', xticklabels=label_encoder.classes_, yticklabels=label_encoder.classes_)\n",
    "plt.ylabel('Actual')\n",
    "plt.xlabel('Predicted')\n",
    "plt.title('Confusion Matrix')\n",
    "plt.show()"
   ]
  },
  {
   "cell_type": "code",
   "execution_count": null,
   "id": "b97ef3d4-420e-440d-964e-e59f25af6c86",
   "metadata": {},
   "outputs": [],
   "source": []
  }
 ],
 "metadata": {
  "kernelspec": {
   "display_name": "Python 3",
   "language": "python",
   "name": "python3"
  },
  "language_info": {
   "codemirror_mode": {
    "name": "ipython",
    "version": 3
   },
   "file_extension": ".py",
   "mimetype": "text/x-python",
   "name": "python",
   "nbconvert_exporter": "python",
   "pygments_lexer": "ipython3",
   "version": "3.12.7"
  }
 },
 "nbformat": 4,
 "nbformat_minor": 5
}
